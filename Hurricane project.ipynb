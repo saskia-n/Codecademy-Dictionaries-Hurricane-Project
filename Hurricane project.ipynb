{
 "cells": [
  {
   "cell_type": "markdown",
   "id": "c0b1a2c0",
   "metadata": {},
   "source": [
    "# Challenge Project: Hurricane Analysis"
   ]
  },
  {
   "cell_type": "markdown",
   "id": "c6f9a490",
   "metadata": {},
   "source": [
    "This code challenge and data are provided by Codecademy in the Data Scientist path. The 'official' solutions can be found [here](https://codecademy-content.s3.amazonaws.com/PRO/independent-practice-projects/hurricane-analysis/hurricane_analysis_ending.zip)."
   ]
  },
  {
   "cell_type": "markdown",
   "id": "fbd8deec",
   "metadata": {},
   "source": [
    "## Data"
   ]
  },
  {
   "cell_type": "code",
   "execution_count": 2,
   "id": "6ead057e",
   "metadata": {},
   "outputs": [],
   "source": [
    "# names of hurricanes\n",
    "names = ['Cuba I', 'San Felipe II Okeechobee', 'Bahamas', 'Cuba II', 'CubaBrownsville', 'Tampico', 'Labor Day', 'New England', 'Carol', 'Janet', 'Carla', 'Hattie', 'Beulah', 'Camille', 'Edith', 'Anita', 'David', 'Allen', 'Gilbert', 'Hugo', 'Andrew', 'Mitch', 'Isabel', 'Ivan', 'Emily', 'Katrina', 'Rita', 'Wilma', 'Dean', 'Felix', 'Matthew', 'Irma', 'Maria', 'Michael']\n",
    "\n",
    "# months of hurricanes\n",
    "months = ['October', 'September', 'September', 'November', 'August', 'September', 'September', 'September', 'September', 'September', 'September', 'October', 'September', 'August', 'September', 'September', 'August', 'August', 'September', 'September', 'August', 'October', 'September', 'September', 'July', 'August', 'September', 'October', 'August', 'September', 'October', 'September', 'September', 'October']\n",
    "\n",
    "# years of hurricanes\n",
    "years = [1924, 1928, 1932, 1932, 1933, 1933, 1935, 1938, 1953, 1955, 1961, 1961, 1967, 1969, 1971, 1977, 1979, 1980, 1988, 1989, 1992, 1998, 2003, 2004, 2005, 2005, 2005, 2005, 2007, 2007, 2016, 2017, 2017, 2018]\n",
    "\n",
    "# maximum sustained winds (mph) of hurricanes\n",
    "max_sustained_winds = [165, 160, 160, 175, 160, 160, 185, 160, 160, 175, 175, 160, 160, 175, 160, 175, 175, 190, 185, 160, 175, 180, 165, 165, 160, 175, 180, 185, 175, 175, 165, 180, 175, 160]\n",
    "\n",
    "# areas affected by each hurricane\n",
    "areas_affected = [['Central America', 'Mexico', 'Cuba', 'Florida', 'The Bahamas'], ['Lesser Antilles', 'The Bahamas', 'United States East Coast', 'Atlantic Canada'], ['The Bahamas', 'Northeastern United States'], ['Lesser Antilles', 'Jamaica', 'Cayman Islands', 'Cuba', 'The Bahamas', 'Bermuda'], ['The Bahamas', 'Cuba', 'Florida', 'Texas', 'Tamaulipas'], ['Jamaica', 'Yucatn Peninsula'], ['The Bahamas', 'Florida', 'Georgia', 'The Carolinas', 'Virginia'], ['Southeastern United States', 'Northeastern United States', 'Southwestern Quebec'], ['Bermuda', 'New England', 'Atlantic Canada'], ['Lesser Antilles', 'Central America'], ['Texas', 'Louisiana', 'Midwestern United States'], ['Central America'], ['The Caribbean', 'Mexico', 'Texas'], ['Cuba', 'United States Gulf Coast'], ['The Caribbean', 'Central America', 'Mexico', 'United States Gulf Coast'], ['Mexico'], ['The Caribbean', 'United States East coast'], ['The Caribbean', 'Yucatn Peninsula', 'Mexico', 'South Texas'], ['Jamaica', 'Venezuela', 'Central America', 'Hispaniola', 'Mexico'], ['The Caribbean', 'United States East Coast'], ['The Bahamas', 'Florida', 'United States Gulf Coast'], ['Central America', 'Yucatn Peninsula', 'South Florida'], ['Greater Antilles', 'Bahamas', 'Eastern United States', 'Ontario'], ['The Caribbean', 'Venezuela', 'United States Gulf Coast'], ['Windward Islands', 'Jamaica', 'Mexico', 'Texas'], ['Bahamas', 'United States Gulf Coast'], ['Cuba', 'United States Gulf Coast'], ['Greater Antilles', 'Central America', 'Florida'], ['The Caribbean', 'Central America'], ['Nicaragua', 'Honduras'], ['Antilles', 'Venezuela', 'Colombia', 'United States East Coast', 'Atlantic Canada'], ['Cape Verde', 'The Caribbean', 'British Virgin Islands', 'U.S. Virgin Islands', 'Cuba', 'Florida'], ['Lesser Antilles', 'Virgin Islands', 'Puerto Rico', 'Dominican Republic', 'Turks and Caicos Islands'], ['Central America', 'United States Gulf Coast (especially Florida Panhandle)']]\n",
    "\n",
    "# damages (USD($)) of hurricanes\n",
    "damages = ['Damages not recorded', '100M', 'Damages not recorded', '40M', '27.9M', '5M', 'Damages not recorded', '306M', '2M', '65.8M', '326M', '60.3M', '208M', '1.42B', '25.4M', 'Damages not recorded', '1.54B', '1.24B', '7.1B', '10B', '26.5B', '6.2B', '5.37B', '23.3B', '1.01B', '125B', '12B', '29.4B', '1.76B', '720M', '15.1B', '64.8B', '91.6B', '25.1B']\n",
    "\n",
    "# deaths for each hurricane\n",
    "deaths = [90,4000,16,3103,179,184,408,682,5,1023,43,319,688,259,37,11,2068,269,318,107,65,19325,51,124,17,1836,125,87,45,133,603,138,3057,74]"
   ]
  },
  {
   "cell_type": "markdown",
   "id": "35cedda7",
   "metadata": {},
   "source": [
    "## Challenge 2\n",
    "\n",
    "Hurricanes, also known as cyclones or typhoons, are one of the most powerful forces of nature on Earth. Due to climate change caused by human activity, the number and intensity of hurricanes has risen, calling for better preparation by the many communities that are devastated by them. As a concerned environmentalist, you want to look at data about the most powerful hurricanes that have occurred.\n",
    "\n",
    "Begin by looking at the damages list. The list contains strings representing the total cost in USD($) caused by 34 category 5 hurricanes (wind speeds ≥ 157 mph (252 km/h )) in the Atlantic region. For some of the hurricanes, damage data was not recorded (\"Damages not recorded\"), while the rest are written in the format \"Prefix-B/M\", where B stands for billions (1000000000) and M stands for millions (1000000).\n",
    "\n",
    "Write a function that returns a new list of updated damages where the recorded data is converted to float values and the missing data is retained as \"Damages not recorded\".\n",
    "\n",
    "Test your function with the data stored in damages."
   ]
  },
  {
   "cell_type": "code",
   "execution_count": 3,
   "id": "8cc47134",
   "metadata": {},
   "outputs": [
    {
     "name": "stdout",
     "output_type": "stream",
     "text": [
      "['Damages not recorded', 100000000.0, 'Damages not recorded', 40000000.0, 27900000.0, 5000000.0, 'Damages not recorded', 306000000.0, 2000000.0, 65800000.0, 326000000.0, 60300000.0, 208000000.0, 1420000000.0, 25400000.0, 'Damages not recorded', 1540000000.0, 1240000000.0, 7100000000.0, 10000000000.0, 26500000000.0, 6200000000.0, 5370000000.0, 23300000000.0, 1010000000.0, 125000000000.0, 12000000000.0, 29400000000.0, 1760000000.0, 720000000.0, 15100000000.0, 64800000000.0, 91600000000.0, 25100000000.0]\n"
     ]
    }
   ],
   "source": [
    "def convert_sums(variable):\n",
    "    new_values = []\n",
    "    for value in variable:\n",
    "        if value[-1] == \"M\":\n",
    "            new_values.append(float(value[:-1]) * 1000000)\n",
    "        elif value[-1] == \"B\":\n",
    "            new_values.append(float(value[:-1]) * 1000000000)\n",
    "        else:\n",
    "            new_values.append(value)\n",
    "    return new_values\n",
    "      \n",
    "new_damages = convert_sums(damages)\n",
    "\n",
    "print(new_damages)"
   ]
  },
  {
   "cell_type": "markdown",
   "id": "83516d33",
   "metadata": {},
   "source": [
    "## Challenge 3\n",
    "\n",
    "Additional data collected on the 34 strongest Atlantic hurricanes are provided in a series of lists. The data includes:\n",
    "\n",
    "names: names of the hurricanes\n",
    "months: months in which the hurricanes occurred\n",
    "years: years in which the hurricanes occurred\n",
    "max_sustained_winds: maximum sustained winds (miles per hour) of the hurricanes\n",
    "areas_affected: list of different areas affected by each of the hurricanes\n",
    "deaths: total number of deaths caused by each of the hurricanes\n",
    "The data is organized such that the data at each index, from 0 to 33, corresponds to the same hurricane.\n",
    "\n",
    "For example, names[0] yields the “Cuba I” hurricane, which ouccred in months[0] (October) years[0] (1924).\n",
    "\n",
    "Write a function that constructs a dictionary made out of the lists, where the keys of the dictionary are the names of the hurricanes, and the values are dictionaries themselves containing a key for each piece of data (Name, Month, Year,Max Sustained Wind, Areas Affected, Damage, Death) about the hurricane.\n",
    "\n",
    "Thus the key \"Cuba I\" would have the value: {'Name': 'Cuba I', 'Month': 'October', 'Year': 1924, 'Max Sustained Wind': 165, 'Areas Affected': ['Central America', 'Mexico', 'Cuba', 'Florida', 'The Bahamas'], 'Damage': 'Damages not recorded', 'Deaths': 90}.\n",
    "\n",
    "Test your function on the lists of data provided."
   ]
  },
  {
   "cell_type": "code",
   "execution_count": 41,
   "id": "ab0c1bd7",
   "metadata": {},
   "outputs": [
    {
     "name": "stdout",
     "output_type": "stream",
     "text": [
      "{'Cuba I': {'Month': 'October', 'Year': 1924, 'Max sustained winds': 165, 'Areas affected': ['Central America', 'Mexico', 'Cuba', 'Florida', 'The Bahamas'], 'Damages': 'Damages not recorded', 'Deaths': 90}, 'San Felipe II Okeechobee': {'Month': 'September', 'Year': 1928, 'Max sustained winds': 160, 'Areas affected': ['Lesser Antilles', 'The Bahamas', 'United States East Coast', 'Atlantic Canada'], 'Damages': 100000000.0, 'Deaths': 4000}, 'Bahamas': {'Month': 'September', 'Year': 1932, 'Max sustained winds': 160, 'Areas affected': ['The Bahamas', 'Northeastern United States'], 'Damages': 'Damages not recorded', 'Deaths': 16}, 'Cuba II': {'Month': 'November', 'Year': 1932, 'Max sustained winds': 175, 'Areas affected': ['Lesser Antilles', 'Jamaica', 'Cayman Islands', 'Cuba', 'The Bahamas', 'Bermuda'], 'Damages': 40000000.0, 'Deaths': 3103}, 'CubaBrownsville': {'Month': 'August', 'Year': 1933, 'Max sustained winds': 160, 'Areas affected': ['The Bahamas', 'Cuba', 'Florida', 'Texas', 'Tamaulipas'], 'Damages': 27900000.0, 'Deaths': 179}, 'Tampico': {'Month': 'September', 'Year': 1933, 'Max sustained winds': 160, 'Areas affected': ['Jamaica', 'Yucatn Peninsula'], 'Damages': 5000000.0, 'Deaths': 184}, 'Labor Day': {'Month': 'September', 'Year': 1935, 'Max sustained winds': 185, 'Areas affected': ['The Bahamas', 'Florida', 'Georgia', 'The Carolinas', 'Virginia'], 'Damages': 'Damages not recorded', 'Deaths': 408}, 'New England': {'Month': 'September', 'Year': 1938, 'Max sustained winds': 160, 'Areas affected': ['Southeastern United States', 'Northeastern United States', 'Southwestern Quebec'], 'Damages': 306000000.0, 'Deaths': 682}, 'Carol': {'Month': 'September', 'Year': 1953, 'Max sustained winds': 160, 'Areas affected': ['Bermuda', 'New England', 'Atlantic Canada'], 'Damages': 2000000.0, 'Deaths': 5}, 'Janet': {'Month': 'September', 'Year': 1955, 'Max sustained winds': 175, 'Areas affected': ['Lesser Antilles', 'Central America'], 'Damages': 65800000.0, 'Deaths': 1023}, 'Carla': {'Month': 'September', 'Year': 1961, 'Max sustained winds': 175, 'Areas affected': ['Texas', 'Louisiana', 'Midwestern United States'], 'Damages': 326000000.0, 'Deaths': 43}, 'Hattie': {'Month': 'October', 'Year': 1961, 'Max sustained winds': 160, 'Areas affected': ['Central America'], 'Damages': 60300000.0, 'Deaths': 319}, 'Beulah': {'Month': 'September', 'Year': 1967, 'Max sustained winds': 160, 'Areas affected': ['The Caribbean', 'Mexico', 'Texas'], 'Damages': 208000000.0, 'Deaths': 688}, 'Camille': {'Month': 'August', 'Year': 1969, 'Max sustained winds': 175, 'Areas affected': ['Cuba', 'United States Gulf Coast'], 'Damages': 1420000000.0, 'Deaths': 259}, 'Edith': {'Month': 'September', 'Year': 1971, 'Max sustained winds': 160, 'Areas affected': ['The Caribbean', 'Central America', 'Mexico', 'United States Gulf Coast'], 'Damages': 25400000.0, 'Deaths': 37}, 'Anita': {'Month': 'September', 'Year': 1977, 'Max sustained winds': 175, 'Areas affected': ['Mexico'], 'Damages': 'Damages not recorded', 'Deaths': 11}, 'David': {'Month': 'August', 'Year': 1979, 'Max sustained winds': 175, 'Areas affected': ['The Caribbean', 'United States East coast'], 'Damages': 1540000000.0, 'Deaths': 2068}, 'Allen': {'Month': 'August', 'Year': 1980, 'Max sustained winds': 190, 'Areas affected': ['The Caribbean', 'Yucatn Peninsula', 'Mexico', 'South Texas'], 'Damages': 1240000000.0, 'Deaths': 269}, 'Gilbert': {'Month': 'September', 'Year': 1988, 'Max sustained winds': 185, 'Areas affected': ['Jamaica', 'Venezuela', 'Central America', 'Hispaniola', 'Mexico'], 'Damages': 7100000000.0, 'Deaths': 318}, 'Hugo': {'Month': 'September', 'Year': 1989, 'Max sustained winds': 160, 'Areas affected': ['The Caribbean', 'United States East Coast'], 'Damages': 10000000000.0, 'Deaths': 107}, 'Andrew': {'Month': 'August', 'Year': 1992, 'Max sustained winds': 175, 'Areas affected': ['The Bahamas', 'Florida', 'United States Gulf Coast'], 'Damages': 26500000000.0, 'Deaths': 65}, 'Mitch': {'Month': 'October', 'Year': 1998, 'Max sustained winds': 180, 'Areas affected': ['Central America', 'Yucatn Peninsula', 'South Florida'], 'Damages': 6200000000.0, 'Deaths': 19325}, 'Isabel': {'Month': 'September', 'Year': 2003, 'Max sustained winds': 165, 'Areas affected': ['Greater Antilles', 'Bahamas', 'Eastern United States', 'Ontario'], 'Damages': 5370000000.0, 'Deaths': 51}, 'Ivan': {'Month': 'September', 'Year': 2004, 'Max sustained winds': 165, 'Areas affected': ['The Caribbean', 'Venezuela', 'United States Gulf Coast'], 'Damages': 23300000000.0, 'Deaths': 124}, 'Emily': {'Month': 'July', 'Year': 2005, 'Max sustained winds': 160, 'Areas affected': ['Windward Islands', 'Jamaica', 'Mexico', 'Texas'], 'Damages': 1010000000.0, 'Deaths': 17}, 'Katrina': {'Month': 'August', 'Year': 2005, 'Max sustained winds': 175, 'Areas affected': ['Bahamas', 'United States Gulf Coast'], 'Damages': 125000000000.0, 'Deaths': 1836}, 'Rita': {'Month': 'September', 'Year': 2005, 'Max sustained winds': 180, 'Areas affected': ['Cuba', 'United States Gulf Coast'], 'Damages': 12000000000.0, 'Deaths': 125}, 'Wilma': {'Month': 'October', 'Year': 2005, 'Max sustained winds': 185, 'Areas affected': ['Greater Antilles', 'Central America', 'Florida'], 'Damages': 29400000000.0, 'Deaths': 87}, 'Dean': {'Month': 'August', 'Year': 2007, 'Max sustained winds': 175, 'Areas affected': ['The Caribbean', 'Central America'], 'Damages': 1760000000.0, 'Deaths': 45}, 'Felix': {'Month': 'September', 'Year': 2007, 'Max sustained winds': 175, 'Areas affected': ['Nicaragua', 'Honduras'], 'Damages': 720000000.0, 'Deaths': 133}, 'Matthew': {'Month': 'October', 'Year': 2016, 'Max sustained winds': 165, 'Areas affected': ['Antilles', 'Venezuela', 'Colombia', 'United States East Coast', 'Atlantic Canada'], 'Damages': 15100000000.0, 'Deaths': 603}, 'Irma': {'Month': 'September', 'Year': 2017, 'Max sustained winds': 180, 'Areas affected': ['Cape Verde', 'The Caribbean', 'British Virgin Islands', 'U.S. Virgin Islands', 'Cuba', 'Florida'], 'Damages': 64800000000.0, 'Deaths': 138}, 'Maria': {'Month': 'September', 'Year': 2017, 'Max sustained winds': 175, 'Areas affected': ['Lesser Antilles', 'Virgin Islands', 'Puerto Rico', 'Dominican Republic', 'Turks and Caicos Islands'], 'Damages': 91600000000.0, 'Deaths': 3057}, 'Michael': {'Month': 'October', 'Year': 2018, 'Max sustained winds': 160, 'Areas affected': ['Central America', 'United States Gulf Coast (especially Florida Panhandle)'], 'Damages': 25100000000.0, 'Deaths': 74}}\n"
     ]
    }
   ],
   "source": [
    "def construct_library_hurricanes(names, months, years, max_sustained_winds, areas_affected, new_damages, deaths):\n",
    "    return {entry[0]: {\"Month\": entry[1], \n",
    "                       \"Year\": entry[2], \n",
    "                       \"Max sustained winds\": entry[3],\n",
    "                       \"Areas affected\": entry[4], \n",
    "                       \"Damages\": entry[5], \n",
    "                       \"Deaths\": entry[6]} \n",
    "                  for entry in zip(names, \n",
    "                                   months, \n",
    "                                   years, \n",
    "                                   max_sustained_winds, \n",
    "                                   areas_affected, \n",
    "                                   new_damages, \n",
    "                                   deaths)}\n",
    "\n",
    "# Store for later use\n",
    "dict_hurricanes = construct_library_hurricanes(names, \n",
    "                                               months, \n",
    "                                               years, \n",
    "                                               max_sustained_winds, \n",
    "                                               areas_affected, \n",
    "                                               new_damages, \n",
    "                                               deaths) \n",
    "\n",
    "print(dict_hurricanes)        "
   ]
  },
  {
   "cell_type": "markdown",
   "id": "f9ca1d44",
   "metadata": {},
   "source": [
    "## Challenge 4\n",
    "\n",
    "In addition to organizing the hurricanes in a dictionary with names as the key, you want to be able to organize the hurricanes by year.\n",
    "\n",
    "Write a function that converts the current dictionary of hurricanes to a new dictionary, where the keys are years and the values are lists containing a dictionary for each hurricane that occurred in that year.\n",
    "\n",
    "For example, the key 1932 would yield the value: [{'Name': 'Bahamas', 'Month': 'September', 'Year': 1932, 'Max Sustained Wind': 160, 'Areas Affected': ['The Bahamas', 'Northeastern United States'], 'Damage': 'Damages not recorded', 'Deaths': 16}, {'Name': 'Cuba II', 'Month': 'November', 'Year': 1932, 'Max Sustained Wind': 175, 'Areas Affected': ['Lesser Antilles', 'Jamaica', 'Cayman Islands', 'Cuba', 'The Bahamas', 'Bermuda'], 'Damage': 40000000.0, 'Deaths': 3103}].\n",
    "\n",
    "Test your function on your hurricane dictionary."
   ]
  },
  {
   "cell_type": "code",
   "execution_count": 37,
   "id": "ee7277d6",
   "metadata": {},
   "outputs": [
    {
     "name": "stdout",
     "output_type": "stream",
     "text": [
      "{1924: {'Name': 'Cuba I', 'Month': 'October', 'Year': 1924, 'Max sustained winds': 165, 'Areas affected': ['Central America', 'Mexico', 'Cuba', 'Florida', 'The Bahamas'], 'Damage': 'Damages not recorded', 'Deaths': 90}, 1928: {'Name': 'San Felipe II Okeechobee', 'Month': 'September', 'Year': 1928, 'Max sustained winds': 160, 'Areas affected': ['Lesser Antilles', 'The Bahamas', 'United States East Coast', 'Atlantic Canada'], 'Damage': 100000000.0, 'Deaths': 4000}, 1932: {'Name': 'Cuba II', 'Month': 'November', 'Year': 1932, 'Max sustained winds': 175, 'Areas affected': ['Lesser Antilles', 'Jamaica', 'Cayman Islands', 'Cuba', 'The Bahamas', 'Bermuda'], 'Damage': 40000000.0, 'Deaths': 3103}, 1933: {'Name': 'Tampico', 'Month': 'September', 'Year': 1933, 'Max sustained winds': 160, 'Areas affected': ['Jamaica', 'Yucatn Peninsula'], 'Damage': 5000000.0, 'Deaths': 184}, 1935: {'Name': 'Labor Day', 'Month': 'September', 'Year': 1935, 'Max sustained winds': 185, 'Areas affected': ['The Bahamas', 'Florida', 'Georgia', 'The Carolinas', 'Virginia'], 'Damage': 'Damages not recorded', 'Deaths': 408}, 1938: {'Name': 'New England', 'Month': 'September', 'Year': 1938, 'Max sustained winds': 160, 'Areas affected': ['Southeastern United States', 'Northeastern United States', 'Southwestern Quebec'], 'Damage': 306000000.0, 'Deaths': 682}, 1953: {'Name': 'Carol', 'Month': 'September', 'Year': 1953, 'Max sustained winds': 160, 'Areas affected': ['Bermuda', 'New England', 'Atlantic Canada'], 'Damage': 2000000.0, 'Deaths': 5}, 1955: {'Name': 'Janet', 'Month': 'September', 'Year': 1955, 'Max sustained winds': 175, 'Areas affected': ['Lesser Antilles', 'Central America'], 'Damage': 65800000.0, 'Deaths': 1023}, 1961: {'Name': 'Hattie', 'Month': 'October', 'Year': 1961, 'Max sustained winds': 160, 'Areas affected': ['Central America'], 'Damage': 60300000.0, 'Deaths': 319}, 1967: {'Name': 'Beulah', 'Month': 'September', 'Year': 1967, 'Max sustained winds': 160, 'Areas affected': ['The Caribbean', 'Mexico', 'Texas'], 'Damage': 208000000.0, 'Deaths': 688}, 1969: {'Name': 'Camille', 'Month': 'August', 'Year': 1969, 'Max sustained winds': 175, 'Areas affected': ['Cuba', 'United States Gulf Coast'], 'Damage': 1420000000.0, 'Deaths': 259}, 1971: {'Name': 'Edith', 'Month': 'September', 'Year': 1971, 'Max sustained winds': 160, 'Areas affected': ['The Caribbean', 'Central America', 'Mexico', 'United States Gulf Coast'], 'Damage': 25400000.0, 'Deaths': 37}, 1977: {'Name': 'Anita', 'Month': 'September', 'Year': 1977, 'Max sustained winds': 175, 'Areas affected': ['Mexico'], 'Damage': 'Damages not recorded', 'Deaths': 11}, 1979: {'Name': 'David', 'Month': 'August', 'Year': 1979, 'Max sustained winds': 175, 'Areas affected': ['The Caribbean', 'United States East coast'], 'Damage': 1540000000.0, 'Deaths': 2068}, 1980: {'Name': 'Allen', 'Month': 'August', 'Year': 1980, 'Max sustained winds': 190, 'Areas affected': ['The Caribbean', 'Yucatn Peninsula', 'Mexico', 'South Texas'], 'Damage': 1240000000.0, 'Deaths': 269}, 1988: {'Name': 'Gilbert', 'Month': 'September', 'Year': 1988, 'Max sustained winds': 185, 'Areas affected': ['Jamaica', 'Venezuela', 'Central America', 'Hispaniola', 'Mexico'], 'Damage': 7100000000.0, 'Deaths': 318}, 1989: {'Name': 'Hugo', 'Month': 'September', 'Year': 1989, 'Max sustained winds': 160, 'Areas affected': ['The Caribbean', 'United States East Coast'], 'Damage': 10000000000.0, 'Deaths': 107}, 1992: {'Name': 'Andrew', 'Month': 'August', 'Year': 1992, 'Max sustained winds': 175, 'Areas affected': ['The Bahamas', 'Florida', 'United States Gulf Coast'], 'Damage': 26500000000.0, 'Deaths': 65}, 1998: {'Name': 'Mitch', 'Month': 'October', 'Year': 1998, 'Max sustained winds': 180, 'Areas affected': ['Central America', 'Yucatn Peninsula', 'South Florida'], 'Damage': 6200000000.0, 'Deaths': 19325}, 2003: {'Name': 'Isabel', 'Month': 'September', 'Year': 2003, 'Max sustained winds': 165, 'Areas affected': ['Greater Antilles', 'Bahamas', 'Eastern United States', 'Ontario'], 'Damage': 5370000000.0, 'Deaths': 51}, 2004: {'Name': 'Ivan', 'Month': 'September', 'Year': 2004, 'Max sustained winds': 165, 'Areas affected': ['The Caribbean', 'Venezuela', 'United States Gulf Coast'], 'Damage': 23300000000.0, 'Deaths': 124}, 2005: {'Name': 'Wilma', 'Month': 'October', 'Year': 2005, 'Max sustained winds': 185, 'Areas affected': ['Greater Antilles', 'Central America', 'Florida'], 'Damage': 29400000000.0, 'Deaths': 87}, 2007: {'Name': 'Felix', 'Month': 'September', 'Year': 2007, 'Max sustained winds': 175, 'Areas affected': ['Nicaragua', 'Honduras'], 'Damage': 720000000.0, 'Deaths': 133}, 2016: {'Name': 'Matthew', 'Month': 'October', 'Year': 2016, 'Max sustained winds': 165, 'Areas affected': ['Antilles', 'Venezuela', 'Colombia', 'United States East Coast', 'Atlantic Canada'], 'Damage': 15100000000.0, 'Deaths': 603}, 2017: {'Name': 'Maria', 'Month': 'September', 'Year': 2017, 'Max sustained winds': 175, 'Areas affected': ['Lesser Antilles', 'Virgin Islands', 'Puerto Rico', 'Dominican Republic', 'Turks and Caicos Islands'], 'Damage': 91600000000.0, 'Deaths': 3057}, 2018: {'Name': 'Michael', 'Month': 'October', 'Year': 2018, 'Max sustained winds': 160, 'Areas affected': ['Central America', 'United States Gulf Coast (especially Florida Panhandle)'], 'Damage': 25100000000.0, 'Deaths': 74}}\n"
     ]
    }
   ],
   "source": [
    "def convert_to_year(dictionary):\n",
    "    return {dictionary[record][\"Year\"]: \n",
    "                         {\"Name\": record,\n",
    "                          \"Month\": dictionary[record][\"Month\"],\n",
    "                          \"Year\": dictionary[record][\"Year\"],\n",
    "                          \"Max sustained winds\": dictionary[record][\"Max sustained winds\"],\n",
    "                          \"Areas affected\": dictionary[record][\"Areas affected\"],\n",
    "                          \"Damage\": dictionary[record][\"Damages\"],\n",
    "                          \"Deaths\": dictionary[record][\"Deaths\"]} \n",
    "            for record in dictionary}\n",
    "\n",
    "print(convert_to_year(dict_hurricanes))"
   ]
  },
  {
   "cell_type": "markdown",
   "id": "7b32bec8",
   "metadata": {},
   "source": [
    "## Challenge 5\n",
    "\n",
    "You believe that knowing how often each of the areas of the Atlantic are affected by these strong hurricanes is important for making preparations for future hurricanes.\n",
    "\n",
    "Write a function that counts how often each area is listed as an affected area of a hurricane. Store and return the results in a dictionary where the keys are the affected areas and the values are counts of how many times the areas were affected.\n",
    "\n",
    "Test your function on your hurricane dictionary."
   ]
  },
  {
   "cell_type": "code",
   "execution_count": 35,
   "id": "9b738c66",
   "metadata": {},
   "outputs": [
    {
     "name": "stdout",
     "output_type": "stream",
     "text": [
      "{'Antilles': 1, 'Atlantic Canada': 3, 'Bahamas': 2, 'Bermuda': 2, 'British Virgin Islands': 1, 'Cape Verde': 1, 'Cayman Islands': 1, 'Central America': 9, 'Colombia': 1, 'Cuba': 6, 'Dominican Republic': 1, 'Eastern United States': 1, 'Florida': 6, 'Georgia': 1, 'Greater Antilles': 2, 'Hispaniola': 1, 'Honduras': 1, 'Jamaica': 4, 'Lesser Antilles': 4, 'Louisiana': 1, 'Mexico': 7, 'Midwestern United States': 1, 'New England': 1, 'Nicaragua': 1, 'Northeastern United States': 2, 'Ontario': 1, 'Puerto Rico': 1, 'South Florida': 1, 'South Texas': 1, 'Southeastern United States': 1, 'Southwestern Quebec': 1, 'Tamaulipas': 1, 'Texas': 4, 'The Bahamas': 7, 'The Caribbean': 8, 'The Carolinas': 1, 'Turks and Caicos Islands': 1, 'U.S. Virgin Islands': 1, 'United States East Coast': 3, 'United States East coast': 1, 'United States Gulf Coast': 6, 'United States Gulf Coast (especially Florida Panhandle)': 1, 'Venezuela': 3, 'Virgin Islands': 1, 'Virginia': 1, 'Windward Islands': 1, 'Yucatn Peninsula': 3}\n"
     ]
    }
   ],
   "source": [
    "def number_of_times_affected(dictionary):\n",
    "    areas = []\n",
    "    for entry in dictionary:\n",
    "        areas += dictionary[entry][\"Areas affected\"]\n",
    "    return {area: areas.count(area) for area in sorted(areas)}\n",
    "\n",
    "dict_number_affected = number_of_times_affected(dict_hurricanes)\n",
    "print(dict_number_affected)\n",
    "\n",
    "# Tried this with list comprehension, but this yielded a list of lists rather than 1 long list \n",
    "# which was inconvenient for the count method"
   ]
  },
  {
   "cell_type": "code",
   "execution_count": null,
   "id": "aef98415",
   "metadata": {},
   "outputs": [],
   "source": [
    "areas = [item for area_list in dict_hurricanes for item in area_list]\n",
    "\n"
   ]
  },
  {
   "cell_type": "markdown",
   "id": "b86b0f10",
   "metadata": {},
   "source": [
    "## Challenge 6\n",
    "\n",
    "Write a function that finds the area affected by the most hurricanes, and how often it was hit.\n",
    "\n",
    "Test your function on your affected area dictionary."
   ]
  },
  {
   "cell_type": "code",
   "execution_count": 23,
   "id": "ef8bd184",
   "metadata": {},
   "outputs": [
    {
     "name": "stdout",
     "output_type": "stream",
     "text": [
      "{'Central America': 9}\n"
     ]
    }
   ],
   "source": [
    "def find_area_most_hit(dictionary):\n",
    "    return {item[0]:item[1] for item in dictionary.items() if int(item[1]) == max(dictionary.values())}\n",
    "\n",
    "most_affected = find_area_most_hit(dict_number_affected) # store dictionary for later use\n",
    "\n",
    "print(most_affected)"
   ]
  },
  {
   "cell_type": "markdown",
   "id": "efb32056",
   "metadata": {},
   "source": [
    "## Challenge 7\n",
    "\n",
    "Write a function that finds the hurricane that caused the greatest number of deaths, and how many deaths it caused.\n",
    "\n",
    "Test your function on your hurricane dictionary."
   ]
  },
  {
   "cell_type": "code",
   "execution_count": 21,
   "id": "34c57d0e",
   "metadata": {},
   "outputs": [
    {
     "name": "stdout",
     "output_type": "stream",
     "text": [
      "{'Mitch': 19325}\n"
     ]
    }
   ],
   "source": [
    "def find_hurricane_most_deaths(dictionary):\n",
    "    deaths = {record: dictionary[record][\"Deaths\"] for record in dictionary}\n",
    "    return {item[0]:item[1] for item in deaths.items() if int(item[1]) == max(deaths.values())}\n",
    "\n",
    "print(find_hurricane_most_deaths(dict_hurricanes))"
   ]
  },
  {
   "cell_type": "markdown",
   "id": "29e887d6",
   "metadata": {},
   "source": [
    "## Challenge 8\n",
    "\n",
    "Just as hurricanes are rated by their windspeed, you want to try rating hurricanes based on other metrics.\n",
    "\n",
    "Write a function that rates hurricanes on a mortality scale according to the following ratings, where the key is the rating and the value is the upper bound of deaths for that rating.\n",
    "\n",
    "``` \n",
    "mortality_scale = {0: 0,\n",
    "                   1: 100,\n",
    "                   2: 500,\n",
    "                   3: 1000,\n",
    "                   4: 10000}\n",
    "```\n",
    "\n",
    "For example, a hurricane with a 1 mortality rating would have resulted in greater than 0 but less than or equal to 100 deaths. A hurricane with a 5 mortality rating would have resulted in greater than 10000 deaths.\n",
    "\n",
    "Store the hurricanes in a new dictionary where the keys are mortality ratings and the values are lists containing a dictionary for each hurricane that falls into that mortality rating.\n",
    "\n",
    "Test your function on your hurricane dictionary."
   ]
  },
  {
   "cell_type": "code",
   "execution_count": 62,
   "id": "f98e8bf6",
   "metadata": {},
   "outputs": [
    {
     "name": "stdout",
     "output_type": "stream",
     "text": [
      "{0: [], 1: ['Cuba I', 'Bahamas', 'Carol', 'Carla', 'Edith', 'Anita', 'Andrew', 'Isabel', 'Emily', 'Wilma', 'Dean', 'Michael'], 2: ['CubaBrownsville', 'Tampico', 'Labor Day', 'Hattie', 'Camille', 'Allen', 'Gilbert', 'Hugo', 'Ivan', 'Rita', 'Felix', 'Irma'], 3: ['New England', 'Beulah', 'Matthew'], 4: ['San Felipe II Okeechobee', 'Cuba II', 'Janet', 'David', 'Katrina', 'Maria'], 5: ['Mitch']}\n"
     ]
    }
   ],
   "source": [
    "def mortality_rating(dictionary):\n",
    "    deaths = {record: dictionary[record][\"Deaths\"] for record in dictionary}\n",
    "    mortality_dict = {0: [], 1: [], 2: [], 3: [], 4: [], 5: []}\n",
    "    for record in deaths.items():\n",
    "        if int(record[1]) == 0:\n",
    "            mortality_dict[0].append(record[0])\n",
    "        if int(record[1]) > 0 and int(record[1]) < 100: \n",
    "            mortality_dict[1].append(record[0])\n",
    "        elif int(record[1]) >= 100 and int(record[1]) < 500:\n",
    "            mortality_dict[2].append(record[0])\n",
    "        elif int(record[1]) >= 500 and int(record[1]) < 1000:\n",
    "            mortality_dict[3].append(record[0])\n",
    "        elif int(record[1]) >= 1000 and int(record[1]) < 10000:\n",
    "            mortality_dict[4].append(record[0])\n",
    "        else:\n",
    "            mortality_dict[5].append(record[0])\n",
    "    return mortality_dict\n",
    "\n",
    "print(mortality_rating(dict_hurricanes))"
   ]
  },
  {
   "cell_type": "code",
   "execution_count": null,
   "id": "6a377935",
   "metadata": {},
   "outputs": [],
   "source": []
  }
 ],
 "metadata": {
  "kernelspec": {
   "display_name": "Python 3",
   "language": "python",
   "name": "python3"
  },
  "language_info": {
   "codemirror_mode": {
    "name": "ipython",
    "version": 3
   },
   "file_extension": ".py",
   "mimetype": "text/x-python",
   "name": "python",
   "nbconvert_exporter": "python",
   "pygments_lexer": "ipython3",
   "version": "3.7.2"
  }
 },
 "nbformat": 4,
 "nbformat_minor": 5
}
